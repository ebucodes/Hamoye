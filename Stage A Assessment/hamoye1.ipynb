{
 "cells": [
  {
   "cell_type": "code",
   "execution_count": 4,
   "id": "93920698",
   "metadata": {},
   "outputs": [],
   "source": [
    "import pandas as pd\n",
    "import os"
   ]
  },
  {
   "cell_type": "code",
   "execution_count": 5,
   "id": "88f831fc",
   "metadata": {},
   "outputs": [
    {
     "name": "stdout",
     "output_type": "stream",
     "text": [
      "/home/ebucodes/Desktop/WorkSpace/data science/hamoye\n"
     ]
    }
   ],
   "source": [
    "current_directory = os.getcwd()\n",
    "print(current_directory)"
   ]
  },
  {
   "cell_type": "code",
   "execution_count": 16,
   "id": "06384982",
   "metadata": {},
   "outputs": [
    {
     "name": "stdout",
     "output_type": "stream",
     "text": [
      "Total Protein supply quantity in Madagascar in 2015: 173.04999999999998 g/capita/day\n"
     ]
    }
   ],
   "source": [
    "# Filter the data for Madagascar in 2015\n",
    "filter_condition = (df['Area'] == 'Madagascar') & (df['Element'] == 'Protein supply quantity (g/capita/day)') & (df['Unit'] == 'g/capita/day')\n",
    "filtered_df = df[filter_condition]\n",
    "\n",
    "# Calculate the total Protein supply quantity in Madagascar in 2015\n",
    "total_protein_supply = filtered_df['Y2015'].sum()\n",
    "\n",
    "# Print the result\n",
    "print(\"Total Protein supply quantity in Madagascar in 2015:\", total_protein_supply, \"g/capita/day\")\n"
   ]
  },
  {
   "cell_type": "code",
   "execution_count": 18,
   "id": "843bef42",
   "metadata": {},
   "outputs": [
    {
     "name": "stdout",
     "output_type": "stream",
     "text": [
      "Total number of missing data in 2014: 1589\n",
      "Percentage of missing data in 2014: 2.607%\n"
     ]
    }
   ],
   "source": [
    "# Filter the data for the year 2014\n",
    "filter_condition = df['Y2014'].isnull()\n",
    "filtered_df = df[filter_condition]\n",
    "\n",
    "# Calculate the total number of missing data in 2014\n",
    "total_missing_data = filtered_df.shape[0]\n",
    "\n",
    "# Calculate the percentage of missing data in 2014\n",
    "total_rows = df.shape[0]\n",
    "percentage_missing_data = (total_missing_data / total_rows) * 100\n",
    "\n",
    "# Print the result with 3 decimal places\n",
    "print(\"Total number of missing data in 2014:\", total_missing_data)\n",
    "print(\"Percentage of missing data in 2014: {:.3f}%\".format(percentage_missing_data))\n"
   ]
  },
  {
   "cell_type": "code",
   "execution_count": null,
   "id": "131a0a9a",
   "metadata": {},
   "outputs": [],
   "source": []
  },
  {
   "cell_type": "markdown",
   "id": "1b024c35",
   "metadata": {},
   "source": [
    "### What is the mean and standard deviation across the whole dataset for the year 2017 to 2 decimal places?"
   ]
  },
  {
   "cell_type": "code",
   "execution_count": 19,
   "id": "7b699a71",
   "metadata": {},
   "outputs": [
    {
     "name": "stdout",
     "output_type": "stream",
     "text": [
      "Mean for the year 2017: 140.92\n",
      "Standard deviation for the year 2017: 1671.86\n"
     ]
    }
   ],
   "source": [
    "# Filter the data for the year 2017\n",
    "filter_condition = df['Y2017'].notnull()\n",
    "filtered_df = df[filter_condition]\n",
    "\n",
    "# Calculate the mean and standard deviation for the year 2017\n",
    "mean_2017 = filtered_df['Y2017'].mean()\n",
    "std_dev_2017 = filtered_df['Y2017'].std()\n",
    "\n",
    "# Print the results with 2 decimal places\n",
    "print(\"Mean for the year 2017:\", round(mean_2017, 2))\n",
    "print(\"Standard deviation for the year 2017:\", round(std_dev_2017, 2))"
   ]
  },
  {
   "cell_type": "code",
   "execution_count": null,
   "id": "255a65a8",
   "metadata": {},
   "outputs": [],
   "source": []
  },
  {
   "cell_type": "markdown",
   "id": "d12a8b27",
   "metadata": {},
   "source": [
    "### Select columns ‘Y2017’ and ‘Area’, Perform a groupby operation on ‘Area’.  Which of these Areas had the 7th lowest sum in 2017?"
   ]
  },
  {
   "cell_type": "code",
   "execution_count": 20,
   "id": "936fb5ec",
   "metadata": {},
   "outputs": [
    {
     "name": "stdout",
     "output_type": "stream",
     "text": [
      "Area with the 7th lowest sum in 2017: Guinea-Bissau\n"
     ]
    }
   ],
   "source": [
    "# Select the 'Y2017' and 'Area' columns\n",
    "selected_df = df[['Y2017', 'Area']]\n",
    "\n",
    "# Group the data by 'Area' and calculate the sum for 'Y2017'\n",
    "grouped_df = selected_df.groupby('Area').sum()\n",
    "\n",
    "# Sort the sums in ascending order and find the area with the 7th lowest sum\n",
    "seventh_lowest_area = grouped_df.sort_values(by='Y2017').index[6]\n",
    "\n",
    "# Print the result\n",
    "print(\"Area with the 7th lowest sum in 2017:\", seventh_lowest_area)"
   ]
  },
  {
   "cell_type": "code",
   "execution_count": null,
   "id": "4c5dc168",
   "metadata": {},
   "outputs": [],
   "source": []
  },
  {
   "cell_type": "markdown",
   "id": "c30ea228",
   "metadata": {},
   "source": [
    "### Which year had the least correlation with ‘Element Code’?"
   ]
  },
  {
   "cell_type": "code",
   "execution_count": 21,
   "id": "966d11be",
   "metadata": {},
   "outputs": [
    {
     "name": "stdout",
     "output_type": "stream",
     "text": [
      "Year with the least correlation to 'Element Code': Y2016\n"
     ]
    }
   ],
   "source": [
    "# Select the relevant columns\n",
    "selected_columns = ['Element Code', 'Y2014', 'Y2015', 'Y2016', 'Y2017', 'Y2018']\n",
    "selected_df = df[selected_columns]\n",
    "\n",
    "# Calculate the correlations between 'Element Code' and each year column\n",
    "correlations = selected_df.corr()['Element Code']\n",
    "\n",
    "# Find the year with the least correlation\n",
    "least_correlated_year = correlations.idxmin()\n",
    "\n",
    "# Print the result\n",
    "print(\"Year with the least correlation to 'Element Code':\", least_correlated_year)"
   ]
  },
  {
   "cell_type": "code",
   "execution_count": null,
   "id": "8651202d",
   "metadata": {},
   "outputs": [],
   "source": []
  },
  {
   "cell_type": "markdown",
   "id": "ac99d463",
   "metadata": {},
   "source": [
    "### Perform a groupby operation on ‘Element’.  What is the total number of the sum of Processing in 2017?"
   ]
  },
  {
   "cell_type": "code",
   "execution_count": 22,
   "id": "ab234ccf",
   "metadata": {},
   "outputs": [
    {
     "name": "stdout",
     "output_type": "stream",
     "text": [
      "Total sum of Processing in 2017: 292836.0\n"
     ]
    }
   ],
   "source": [
    "# Group the data by 'Element' and calculate the sum for 'Y2017'\n",
    "grouped_df = df.groupby('Element')['Y2017'].sum()\n",
    "\n",
    "# Extract the sum for the 'Processing' element in 2017\n",
    "processing_sum_2017 = grouped_df['Processing']\n",
    "\n",
    "# Print the result\n",
    "print(\"Total sum of Processing in 2017:\", processing_sum_2017)"
   ]
  },
  {
   "cell_type": "code",
   "execution_count": null,
   "id": "fc549dd4",
   "metadata": {},
   "outputs": [],
   "source": []
  },
  {
   "cell_type": "markdown",
   "id": "c40baee2",
   "metadata": {},
   "source": [
    "### What is the total sum of Wine produced in 2015 and 2018 respectively?\n",
    "\n",
    "#### Hint:\n",
    "##### Perform a groupby sum aggregation on ‘Item’"
   ]
  },
  {
   "cell_type": "code",
   "execution_count": 23,
   "id": "8797d60b",
   "metadata": {},
   "outputs": [
    {
     "name": "stdout",
     "output_type": "stream",
     "text": [
      "Total sum of Wine produced in 2015: 4251.81\n",
      "Total sum of Wine produced in 2018: 4039.32\n"
     ]
    },
    {
     "name": "stderr",
     "output_type": "stream",
     "text": [
      "/tmp/ipykernel_13201/921980152.py:2: FutureWarning: Indexing with multiple keys (implicitly converted to a tuple of keys) will be deprecated, use a list instead.\n",
      "  grouped_df = filtered_df.groupby('Item')['Y2015', 'Y2018'].sum()\n"
     ]
    }
   ],
   "source": [
    "# Group the filtered data by 'Item' and calculate the sum for the respective years\n",
    "grouped_df = filtered_df.groupby('Item')['Y2015', 'Y2018'].sum()\n",
    "\n",
    "# Extract the sum for Wine produced in 2015 and 2018\n",
    "sum_2015 = grouped_df.loc['Wine', 'Y2015']\n",
    "sum_2018 = grouped_df.loc['Wine', 'Y2018']\n",
    "\n",
    "# Print the results\n",
    "print(\"Total sum of Wine produced in 2015:\", sum_2015)\n",
    "print(\"Total sum of Wine produced in 2018:\", sum_2018)"
   ]
  },
  {
   "cell_type": "code",
   "execution_count": null,
   "id": "becbdcb7",
   "metadata": {},
   "outputs": [],
   "source": []
  },
  {
   "cell_type": "markdown",
   "id": "dca2c5a0",
   "metadata": {},
   "source": [
    "### Select columns ‘Y2017’ and ‘Area’, Perform a groupby operation on ‘Area’.  Which of these Areas had the highest sum in 2017?"
   ]
  },
  {
   "cell_type": "code",
   "execution_count": 24,
   "id": "a56012f3",
   "metadata": {},
   "outputs": [
    {
     "name": "stdout",
     "output_type": "stream",
     "text": [
      "Area with the highest sum in 2017: Nigeria\n"
     ]
    }
   ],
   "source": [
    "# Select the 'Y2017' and 'Area' columns\n",
    "selected_df = df[['Y2017', 'Area']]\n",
    "\n",
    "# Group the data by 'Area' and calculate the sum for 'Y2017'\n",
    "grouped_df = selected_df.groupby('Area').sum()\n",
    "\n",
    "# Find the area with the highest sum in 2017\n",
    "area_with_highest_sum = grouped_df['Y2017'].idxmax()\n",
    "\n",
    "# Print the result\n",
    "print(\"Area with the highest sum in 2017:\", area_with_highest_sum)"
   ]
  },
  {
   "cell_type": "markdown",
   "id": "c77b7404",
   "metadata": {},
   "source": [
    "### Perform a groupby operation on ‘Element’.  What year has the highest sum of Stock Variation?"
   ]
  },
  {
   "cell_type": "code",
   "execution_count": 25,
   "id": "af4d5da8",
   "metadata": {},
   "outputs": [
    {
     "name": "stdout",
     "output_type": "stream",
     "text": [
      "Year with the highest sum of Stock Variation: Y2014\n"
     ]
    },
    {
     "name": "stderr",
     "output_type": "stream",
     "text": [
      "/tmp/ipykernel_13201/3929434633.py:2: FutureWarning: Indexing with multiple keys (implicitly converted to a tuple of keys) will be deprecated, use a list instead.\n",
      "  grouped_df = df.groupby('Element')['Y2014', 'Y2015', 'Y2016', 'Y2017', 'Y2018'].sum()\n"
     ]
    }
   ],
   "source": [
    "# Group the data by 'Element' and calculate the sum for each year\n",
    "grouped_df = df.groupby('Element')['Y2014', 'Y2015', 'Y2016', 'Y2017', 'Y2018'].sum()\n",
    "\n",
    "# Find the year with the highest sum of Stock Variation\n",
    "year_with_highest_sum = grouped_df.loc['Stock Variation'].idxmax()\n",
    "\n",
    "# Print the result\n",
    "print(\"Year with the highest sum of Stock Variation:\", year_with_highest_sum)"
   ]
  },
  {
   "cell_type": "code",
   "execution_count": 26,
   "id": "76acc7a0",
   "metadata": {},
   "outputs": [
    {
     "name": "stdout",
     "output_type": "stream",
     "text": [
      "Total number of unique countries in the dataset: 49\n"
     ]
    }
   ],
   "source": []
  },
  {
   "cell_type": "markdown",
   "id": "66232619",
   "metadata": {},
   "source": [
    "### What is the total number of unique countries in the dataset?"
   ]
  },
  {
   "cell_type": "code",
   "execution_count": 27,
   "id": "e114f393",
   "metadata": {},
   "outputs": [
    {
     "name": "stdout",
     "output_type": "stream",
     "text": [
      "Total number of unique countries in the dataset: 49\n"
     ]
    }
   ],
   "source": [
    "# Extract the 'Area' column and count the unique values\n",
    "unique_countries = df['Area'].nunique()\n",
    "\n",
    "# Print the result\n",
    "print(\"Total number of unique countries in the dataset:\", unique_countries)"
   ]
  },
  {
   "cell_type": "code",
   "execution_count": null,
   "id": "3b1abc39",
   "metadata": {},
   "outputs": [],
   "source": []
  }
 ],
 "metadata": {
  "kernelspec": {
   "display_name": "Python 3 (ipykernel)",
   "language": "python",
   "name": "python3"
  },
  "language_info": {
   "codemirror_mode": {
    "name": "ipython",
    "version": 3
   },
   "file_extension": ".py",
   "mimetype": "text/x-python",
   "name": "python",
   "nbconvert_exporter": "python",
   "pygments_lexer": "ipython3",
   "version": "3.9.13"
  }
 },
 "nbformat": 4,
 "nbformat_minor": 5
}
